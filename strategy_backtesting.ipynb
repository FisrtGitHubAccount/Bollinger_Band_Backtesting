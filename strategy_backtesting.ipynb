{
 "cells": [
  {
   "cell_type": "code",
   "execution_count": 1,
   "metadata": {},
   "outputs": [],
   "source": [
    "#import everything here\n",
    "import numpy as np\n",
    "import pandas as pd\n",
    "import quandl"
   ]
  },
  {
   "cell_type": "markdown",
   "metadata": {},
   "source": [
    "Calculating the Simple moving average(SMA) of an equity price over a period (Middle Band)\n",
    "Upper/Lower Bands = 2 S.D. from the middle band"
   ]
  },
  {
   "cell_type": "code",
   "execution_count": 3,
   "metadata": {},
   "outputs": [
    {
     "name": "stdout",
     "output_type": "stream",
     "text": [
      "           code                                              name  \\\n",
      "0     BOM500002                      ABB India Limited EOD Prices   \n",
      "1     BOM500003                   AEGIS LOGISTICS LTD. EOD Prices   \n",
      "2     BOM500008              AMARA RAJA BATTERIES LTD. EOD Prices   \n",
      "3     BOM500009      AMBALAL SARABHAI ENTERPRISES LTD. EOD Prices   \n",
      "4     BOM500010  HOUSING DEVELOPMENT FINANCE CORP.LTD. EOD Prices   \n",
      "...         ...                                               ...   \n",
      "5117   SPBSS5IP                                     BSE SENSEX 50   \n",
      "5118   SPBSSSIP                         BSE SmallCap Select Index   \n",
      "5119   SPBSTLIP                                       BSE Telecom   \n",
      "5120   SPBSUTIP                                     BSE Utilities   \n",
      "5121   SPICBLOT                             BSE Liquid Rate Index   \n",
      "\n",
      "                                            description         refreshed_at  \\\n",
      "0     End of Day prices and additional trading infor...  2023-09-01 14:24:43   \n",
      "1     End of Day prices and additional trading infor...  2023-09-01 14:24:43   \n",
      "2     End of Day prices and additional trading infor...  2023-09-01 14:24:43   \n",
      "3     End of Day prices and additional trading infor...  2023-09-01 14:24:43   \n",
      "4     End of Day prices and additional trading infor...  2023-09-01 14:24:43   \n",
      "...                                                 ...                  ...   \n",
      "5117  Historical BSE indexes for BSE SENSEX 50 (SPBS...  2023-07-20 19:30:40   \n",
      "5118  Historical BSE indexes for BSE SmallCap Select...  2023-07-21 19:30:54   \n",
      "5119  Historical BSE indexes for BSE Telecom (SPBSTLIP)  2023-07-20 19:30:40   \n",
      "5120  Historical BSE indexes for BSE Utilities (SPBS...  2023-07-21 19:30:54   \n",
      "5121  Historical BSE indexes for BSE Liquid Rate Ind...  2023-07-21 19:30:54   \n",
      "\n",
      "       from_date     to_date  \n",
      "0     1992-03-02  2023-09-01  \n",
      "1     1992-03-02  2023-09-01  \n",
      "2     1992-03-02  2023-09-01  \n",
      "3     1992-03-02  2023-09-01  \n",
      "4     1992-01-03  2023-07-12  \n",
      "...          ...         ...  \n",
      "5117  2017-09-19  2023-07-20  \n",
      "5118  2015-07-08  2023-07-21  \n",
      "5119  2005-09-16  2023-07-20  \n",
      "5120  2005-09-16  2023-07-21  \n",
      "5121  2017-09-19  2023-07-21  \n",
      "\n",
      "[5122 rows x 6 columns]\n"
     ]
    }
   ],
   "source": [
    "#API data import\n",
    "quandl.ApiConfig.api_key = \"fYkH3s6N_8cAWa98E-JH\"  #To ensure that my requests to Quandl are authenticated\n",
    "API_key = \"fYkH3s6N_8cAWa98E-JH\"  #will be imported to git.ignore later\n",
    "#curl \"https://www.quandl.com/api/v3/datasets/WIKI/FB.json?column_index=4&start_date=2014-01-01&end_date=2014-12-31&collapse=monthly&transform=rdiff&api_key=YOURAPIKEY\"\n",
    "\n",
    "meta_data = pd.read_csv('BSE_metadata.csv') #read meta data so we can understand the API request convention more easily\n",
    "print(meta_data)"
   ]
  },
  {
   "cell_type": "code",
   "execution_count": 6,
   "metadata": {},
   "outputs": [
    {
     "name": "stdout",
     "output_type": "stream",
     "text": [
      "            Open  High   Low    Close\n",
      "Date                                 \n",
      "2013-04-30  None  None  None  1825.25\n",
      "2013-05-03  None  None  None  1839.69\n",
      "2013-05-06  None  None  None  1857.80\n",
      "2013-05-07  None  None  None  1868.62\n",
      "2013-05-08  None  None  None  1869.93\n",
      "...          ...   ...   ...      ...\n",
      "2019-09-27  None  None  None  4046.62\n",
      "2019-09-30  None  None  None  4046.51\n",
      "2019-10-01  None  None  None  4005.74\n",
      "2019-10-03  None  None  None  3987.24\n",
      "2019-10-04  None  None  None  3958.80\n",
      "\n",
      "[1214 rows x 4 columns]\n"
     ]
    }
   ],
   "source": [
    "#Calling the data for calculating SMA\n",
    "data = quandl.get('BSE/SPBSE5S', start_date='2009-10-05', end_date='2019-10-05') #SPBSE5S represents BSE 500 Shariah,Historical BSE indexes for BSE 500 Shariah\n",
    "print(data)"
   ]
  },
  {
   "cell_type": "code",
   "execution_count": null,
   "metadata": {},
   "outputs": [],
   "source": [
    "#Function calculating the SMA \n",
    "# Load historical price data into a DataFrame\n",
    "# Replace 'your_price_data.csv' with your own dataset\n",
    "df = pd.read_csv('your_price_data.csv')\n",
    "\n",
    "# Define the period and standard deviation multiplier\n",
    "period = 20  # Lookback period for moving average and standard deviation\n",
    "std_multiplier = 2  # Multiplier for standard deviation\n",
    "\n",
    "# Calculate the rolling mean (middle band) and rolling standard deviation\n",
    "df['Middle Band'] = df['Close'].rolling(window=period).mean()\n",
    "df['Upper Band'] = df['Middle Band'] + (df['Close'].rolling(window=period).std() * std_multiplier)\n",
    "df['Lower Band'] = df['Middle Band'] - (df['Close'].rolling(window=period).std() * std_multiplier)"
   ]
  },
  {
   "cell_type": "code",
   "execution_count": null,
   "metadata": {},
   "outputs": [],
   "source": [
    "# Generate buy and sell signals\n",
    "df['Signal'] = 0  # Initialize signal column\n",
    "\n",
    "# Buy signal: Price crosses below the lower Bollinger Band\n",
    "df.loc[df['Close'] < df['Lower Band'], 'Signal'] = 1\n",
    "\n",
    "# Sell signal: Price crosses above the upper Bollinger Band\n",
    "df.loc[df['Close'] > df['Upper Band'], 'Signal'] = -1\n"
   ]
  },
  {
   "cell_type": "code",
   "execution_count": null,
   "metadata": {},
   "outputs": [],
   "source": [
    "# Plot Bollinger Bands and trading signals\n",
    "import matplotlib.pyplot as plt\n",
    "\n",
    "plt.figure(figsize=(12, 6))\n",
    "plt.plot(df['Close'], label='Price', alpha=0.5)\n",
    "plt.plot(df['Middle Band'], label='Middle Band', linestyle='--')\n",
    "plt.plot(df['Upper Band'], label='Upper Band', linestyle='--')\n",
    "plt.plot(df['Lower Band'], label='Lower Band', linestyle='--')\n",
    "\n",
    "# Plot buy signals as green arrows\n",
    "plt.scatter(df.index[df['Signal'] == 1], df['Close'][df['Signal'] == 1], marker='^', color='g', label='Buy Signal', alpha=1)\n",
    "\n",
    "# Plot sell signals as red arrows\n",
    "plt.scatter(df.index[df['Signal'] == -1], df['Close'][df['Signal'] == -1], marker='v', color='r', label='Sell Signal', alpha=1)\n",
    "\n",
    "plt.title('Bollinger Bands Trading Strategy')\n",
    "plt.legend()\n",
    "plt.show()"
   ]
  },
  {
   "cell_type": "code",
   "execution_count": null,
   "metadata": {},
   "outputs": [],
   "source": [
    "#Test it on the other chuck of time period "
   ]
  },
  {
   "cell_type": "code",
   "execution_count": null,
   "metadata": {},
   "outputs": [],
   "source": [
    "#Performance measurement"
   ]
  }
 ],
 "metadata": {
  "kernelspec": {
   "display_name": "Python 3",
   "language": "python",
   "name": "python3"
  },
  "language_info": {
   "codemirror_mode": {
    "name": "ipython",
    "version": 3
   },
   "file_extension": ".py",
   "mimetype": "text/x-python",
   "name": "python",
   "nbconvert_exporter": "python",
   "pygments_lexer": "ipython3",
   "version": "3.9.1"
  },
  "orig_nbformat": 4
 },
 "nbformat": 4,
 "nbformat_minor": 2
}
