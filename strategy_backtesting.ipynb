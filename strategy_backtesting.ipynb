{
 "cells": [
  {
   "cell_type": "code",
   "execution_count": null,
   "metadata": {},
   "outputs": [],
   "source": [
    "#import everything here\n",
    "import numpy as np\n",
    "import pandas as pd"
   ]
  },
  {
   "cell_type": "markdown",
   "metadata": {},
   "source": [
    "Calculating the Simple moving average(SMA) of an equity price over a period (Middle Band)\n",
    "Upper/Lower Bands = 2 S.D. from the middle band"
   ]
  },
  {
   "cell_type": "code",
   "execution_count": null,
   "metadata": {},
   "outputs": [],
   "source": [
    "#API data import"
   ]
  },
  {
   "cell_type": "code",
   "execution_count": null,
   "metadata": {},
   "outputs": [],
   "source": [
    "#Function calculating the SMA \n",
    "# Load historical price data into a DataFrame\n",
    "# Replace 'your_price_data.csv' with your own dataset\n",
    "df = pd.read_csv('your_price_data.csv')\n",
    "\n",
    "# Define the period and standard deviation multiplier\n",
    "period = 20  # Lookback period for moving average and standard deviation\n",
    "std_multiplier = 2  # Multiplier for standard deviation\n",
    "\n",
    "# Calculate the rolling mean (middle band) and rolling standard deviation\n",
    "df['Middle Band'] = df['Close'].rolling(window=period).mean()\n",
    "df['Upper Band'] = df['Middle Band'] + (df['Close'].rolling(window=period).std() * std_multiplier)\n",
    "df['Lower Band'] = df['Middle Band'] - (df['Close'].rolling(window=period).std() * std_multiplier)"
   ]
  },
  {
   "cell_type": "code",
   "execution_count": null,
   "metadata": {},
   "outputs": [],
   "source": [
    "# Generate buy and sell signals\n",
    "df['Signal'] = 0  # Initialize signal column\n",
    "\n",
    "# Buy signal: Price crosses below the lower Bollinger Band\n",
    "df.loc[df['Close'] < df['Lower Band'], 'Signal'] = 1\n",
    "\n",
    "# Sell signal: Price crosses above the upper Bollinger Band\n",
    "df.loc[df['Close'] > df['Upper Band'], 'Signal'] = -1\n"
   ]
  },
  {
   "cell_type": "code",
   "execution_count": null,
   "metadata": {},
   "outputs": [],
   "source": [
    "# Plot Bollinger Bands and trading signals\n",
    "import matplotlib.pyplot as plt\n",
    "\n",
    "plt.figure(figsize=(12, 6))\n",
    "plt.plot(df['Close'], label='Price', alpha=0.5)\n",
    "plt.plot(df['Middle Band'], label='Middle Band', linestyle='--')\n",
    "plt.plot(df['Upper Band'], label='Upper Band', linestyle='--')\n",
    "plt.plot(df['Lower Band'], label='Lower Band', linestyle='--')\n",
    "\n",
    "# Plot buy signals as green arrows\n",
    "plt.scatter(df.index[df['Signal'] == 1], df['Close'][df['Signal'] == 1], marker='^', color='g', label='Buy Signal', alpha=1)\n",
    "\n",
    "# Plot sell signals as red arrows\n",
    "plt.scatter(df.index[df['Signal'] == -1], df['Close'][df['Signal'] == -1], marker='v', color='r', label='Sell Signal', alpha=1)\n",
    "\n",
    "plt.title('Bollinger Bands Trading Strategy')\n",
    "plt.legend()\n",
    "plt.show()"
   ]
  },
  {
   "cell_type": "code",
   "execution_count": null,
   "metadata": {},
   "outputs": [],
   "source": [
    "#Test it on the other chuck of time period "
   ]
  },
  {
   "cell_type": "code",
   "execution_count": null,
   "metadata": {},
   "outputs": [],
   "source": [
    "#Performance measurement"
   ]
  }
 ],
 "metadata": {
  "language_info": {
   "name": "python"
  },
  "orig_nbformat": 4
 },
 "nbformat": 4,
 "nbformat_minor": 2
}
