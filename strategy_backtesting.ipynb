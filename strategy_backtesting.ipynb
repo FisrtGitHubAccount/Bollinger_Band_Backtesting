{
 "cells": [
  {
   "cell_type": "code",
   "execution_count": 12,
   "metadata": {},
   "outputs": [],
   "source": [
    "#import everything here\n",
    "import numpy as np\n",
    "import pandas as pd\n",
    "import quandl\n",
    "import matplotlib.pyplot as plt"
   ]
  },
  {
   "cell_type": "markdown",
   "metadata": {},
   "source": [
    "Calculating the Simple moving average(SMA) of an equity price over a period (Middle Band)\n",
    "Upper/Lower Bands = 2 S.D. from the middle band"
   ]
  },
  {
   "cell_type": "code",
   "execution_count": 13,
   "metadata": {},
   "outputs": [
    {
     "name": "stdout",
     "output_type": "stream",
     "text": [
      "           code                                              name  \\\n",
      "0     BOM500002                      ABB India Limited EOD Prices   \n",
      "1     BOM500003                   AEGIS LOGISTICS LTD. EOD Prices   \n",
      "2     BOM500008              AMARA RAJA BATTERIES LTD. EOD Prices   \n",
      "3     BOM500009      AMBALAL SARABHAI ENTERPRISES LTD. EOD Prices   \n",
      "4     BOM500010  HOUSING DEVELOPMENT FINANCE CORP.LTD. EOD Prices   \n",
      "...         ...                                               ...   \n",
      "5117   SPBSS5IP                                     BSE SENSEX 50   \n",
      "5118   SPBSSSIP                         BSE SmallCap Select Index   \n",
      "5119   SPBSTLIP                                       BSE Telecom   \n",
      "5120   SPBSUTIP                                     BSE Utilities   \n",
      "5121   SPICBLOT                             BSE Liquid Rate Index   \n",
      "\n",
      "                                            description         refreshed_at  \\\n",
      "0     End of Day prices and additional trading infor...  2023-09-01 14:24:43   \n",
      "1     End of Day prices and additional trading infor...  2023-09-01 14:24:43   \n",
      "2     End of Day prices and additional trading infor...  2023-09-01 14:24:43   \n",
      "3     End of Day prices and additional trading infor...  2023-09-01 14:24:43   \n",
      "4     End of Day prices and additional trading infor...  2023-09-01 14:24:43   \n",
      "...                                                 ...                  ...   \n",
      "5117  Historical BSE indexes for BSE SENSEX 50 (SPBS...  2023-07-20 19:30:40   \n",
      "5118  Historical BSE indexes for BSE SmallCap Select...  2023-07-21 19:30:54   \n",
      "5119  Historical BSE indexes for BSE Telecom (SPBSTLIP)  2023-07-20 19:30:40   \n",
      "5120  Historical BSE indexes for BSE Utilities (SPBS...  2023-07-21 19:30:54   \n",
      "5121  Historical BSE indexes for BSE Liquid Rate Ind...  2023-07-21 19:30:54   \n",
      "\n",
      "       from_date     to_date  \n",
      "0     1992-03-02  2023-09-01  \n",
      "1     1992-03-02  2023-09-01  \n",
      "2     1992-03-02  2023-09-01  \n",
      "3     1992-03-02  2023-09-01  \n",
      "4     1992-01-03  2023-07-12  \n",
      "...          ...         ...  \n",
      "5117  2017-09-19  2023-07-20  \n",
      "5118  2015-07-08  2023-07-21  \n",
      "5119  2005-09-16  2023-07-20  \n",
      "5120  2005-09-16  2023-07-21  \n",
      "5121  2017-09-19  2023-07-21  \n",
      "\n",
      "[5122 rows x 6 columns]\n"
     ]
    }
   ],
   "source": [
    "#API data import\n",
    "\n",
    "quandl.ApiConfig.api_key = \"fYkH3s6N_8cAWa98E-JH\"  #To ensure that my requests to Quandl are authenticated\n",
    "API_key = \"fYkH3s6N_8cAWa98E-JH\"  #will be imported to git.ignore later\n",
    "\n",
    "#curl \"https://www.quandl.com/api/v3/datasets/WIKI/FB.json?column_index=4&start_date=2014-01-01&end_date=2014-12-31&collapse=monthly&transform=rdiff&api_key=YOURAPIKEY\"\n",
    "\n",
    "#End of day prices, indices, and additional information for companies trading on \n",
    "#the Bombay Stock Exchange in India.\n",
    "\n",
    "meta_data = pd.read_csv('BSE_metadata.csv') #read meta data so we can understand the API request convention more easily\n",
    "print(meta_data)"
   ]
  },
  {
   "cell_type": "code",
   "execution_count": 14,
   "metadata": {},
   "outputs": [
    {
     "name": "stdout",
     "output_type": "stream",
     "text": [
      "                Open      High       Low     Close\n",
      "Date                                              \n",
      "2009-10-05  17062.01  17062.01  16835.80  16866.41\n",
      "2009-10-06  16879.38  16988.56  16622.05  16958.54\n",
      "2009-10-07  17069.42  17120.56  16764.07  16806.66\n",
      "2009-10-08  16908.02  16998.52  16775.36  16843.54\n",
      "2009-10-09  16915.96  16963.08  16606.95  16642.66\n",
      "...              ...       ...       ...       ...\n",
      "2019-09-27  39003.13  39107.37  38782.60  38822.57\n",
      "2019-09-30  38873.12  38873.12  38401.09  38667.33\n",
      "2019-10-01  38813.48  38923.78  37929.89  38305.41\n",
      "2019-10-03  38137.87  38310.93  37957.56  38106.87\n",
      "2019-10-04  38401.49  38403.54  37633.36  37673.31\n",
      "\n",
      "[2480 rows x 4 columns]\n"
     ]
    }
   ],
   "source": [
    "#Calling the data for calculating SMA\n",
    "data = quandl.get('BSE/SENSEX', start_date='2009-10-05', end_date='2019-10-05') #SENSEX = the most widely traded indian index\n",
    "print(data)"
   ]
  },
  {
   "cell_type": "markdown",
   "metadata": {},
   "source": [
    "A simple moving average is calculated by adding up the last “X” period’s closing prices and then dividing that number by X."
   ]
  },
  {
   "cell_type": "code",
   "execution_count": 15,
   "metadata": {},
   "outputs": [
    {
     "ename": "ValueError",
     "evalue": "Multi-dimensional indexing (e.g. `obj[:, None]`) is no longer supported. Convert to a numpy array before indexing instead.",
     "output_type": "error",
     "traceback": [
      "\u001b[0;31m---------------------------------------------------------------------------\u001b[0m",
      "\u001b[0;31mValueError\u001b[0m                                Traceback (most recent call last)",
      "\u001b[1;32m/Users/iamyou/github-classroom/Bollinger_Band_Backtesting/strategy_backtesting.ipynb Cell 6\u001b[0m line \u001b[0;36m2\n\u001b[1;32m     <a href='vscode-notebook-cell:/Users/iamyou/github-classroom/Bollinger_Band_Backtesting/strategy_backtesting.ipynb#W4sZmlsZQ%3D%3D?line=16'>17</a>\u001b[0m df[\u001b[39m'\u001b[39m\u001b[39mUpper Band\u001b[39m\u001b[39m'\u001b[39m] \u001b[39m=\u001b[39m df[\u001b[39m'\u001b[39m\u001b[39mMiddle Band\u001b[39m\u001b[39m'\u001b[39m] \u001b[39m+\u001b[39m (df[\u001b[39m'\u001b[39m\u001b[39mClose\u001b[39m\u001b[39m'\u001b[39m]\u001b[39m.\u001b[39mrolling(window\u001b[39m=\u001b[39mperiod)\u001b[39m.\u001b[39mstd() \u001b[39m*\u001b[39m std_multiplier)\n\u001b[1;32m     <a href='vscode-notebook-cell:/Users/iamyou/github-classroom/Bollinger_Band_Backtesting/strategy_backtesting.ipynb#W4sZmlsZQ%3D%3D?line=17'>18</a>\u001b[0m df[\u001b[39m'\u001b[39m\u001b[39mLower Band\u001b[39m\u001b[39m'\u001b[39m] \u001b[39m=\u001b[39m df[\u001b[39m'\u001b[39m\u001b[39mMiddle Band\u001b[39m\u001b[39m'\u001b[39m] \u001b[39m-\u001b[39m (df[\u001b[39m'\u001b[39m\u001b[39mClose\u001b[39m\u001b[39m'\u001b[39m]\u001b[39m.\u001b[39mrolling(window\u001b[39m=\u001b[39mperiod)\u001b[39m.\u001b[39mstd() \u001b[39m*\u001b[39m std_multiplier)\n\u001b[0;32m---> <a href='vscode-notebook-cell:/Users/iamyou/github-classroom/Bollinger_Band_Backtesting/strategy_backtesting.ipynb#W4sZmlsZQ%3D%3D?line=19'>20</a>\u001b[0m plt\u001b[39m.\u001b[39;49mplot(df\u001b[39m.\u001b[39;49mindex, df[\u001b[39m'\u001b[39;49m\u001b[39mMiddle Band\u001b[39;49m\u001b[39m'\u001b[39;49m], marker\u001b[39m=\u001b[39;49m\u001b[39m'\u001b[39;49m\u001b[39mo\u001b[39;49m\u001b[39m'\u001b[39;49m, linestyle\u001b[39m=\u001b[39;49m\u001b[39m'\u001b[39;49m\u001b[39m-\u001b[39;49m\u001b[39m'\u001b[39;49m)\n\u001b[1;32m     <a href='vscode-notebook-cell:/Users/iamyou/github-classroom/Bollinger_Band_Backtesting/strategy_backtesting.ipynb#W4sZmlsZQ%3D%3D?line=20'>21</a>\u001b[0m plt\u001b[39m.\u001b[39mxlabel(\u001b[39m\"\u001b[39m\u001b[39mDate\u001b[39m\u001b[39m\"\u001b[39m)\n\u001b[1;32m     <a href='vscode-notebook-cell:/Users/iamyou/github-classroom/Bollinger_Band_Backtesting/strategy_backtesting.ipynb#W4sZmlsZQ%3D%3D?line=21'>22</a>\u001b[0m plt\u001b[39m.\u001b[39mylabel(\u001b[39m\"\u001b[39m\u001b[39mPrice/ Rupees\u001b[39m\u001b[39m\"\u001b[39m)\n",
      "File \u001b[0;32m/Library/Frameworks/Python.framework/Versions/3.9/lib/python3.9/site-packages/matplotlib/pyplot.py:2757\u001b[0m, in \u001b[0;36mplot\u001b[0;34m(scalex, scaley, data, *args, **kwargs)\u001b[0m\n\u001b[1;32m   2755\u001b[0m \u001b[39m@_copy_docstring_and_deprecators\u001b[39m(Axes\u001b[39m.\u001b[39mplot)\n\u001b[1;32m   2756\u001b[0m \u001b[39mdef\u001b[39;00m \u001b[39mplot\u001b[39m(\u001b[39m*\u001b[39margs, scalex\u001b[39m=\u001b[39m\u001b[39mTrue\u001b[39;00m, scaley\u001b[39m=\u001b[39m\u001b[39mTrue\u001b[39;00m, data\u001b[39m=\u001b[39m\u001b[39mNone\u001b[39;00m, \u001b[39m*\u001b[39m\u001b[39m*\u001b[39mkwargs):\n\u001b[0;32m-> 2757\u001b[0m     \u001b[39mreturn\u001b[39;00m gca()\u001b[39m.\u001b[39;49mplot(\n\u001b[1;32m   2758\u001b[0m         \u001b[39m*\u001b[39;49margs, scalex\u001b[39m=\u001b[39;49mscalex, scaley\u001b[39m=\u001b[39;49mscaley,\n\u001b[1;32m   2759\u001b[0m         \u001b[39m*\u001b[39;49m\u001b[39m*\u001b[39;49m({\u001b[39m\"\u001b[39;49m\u001b[39mdata\u001b[39;49m\u001b[39m\"\u001b[39;49m: data} \u001b[39mif\u001b[39;49;00m data \u001b[39mis\u001b[39;49;00m \u001b[39mnot\u001b[39;49;00m \u001b[39mNone\u001b[39;49;00m \u001b[39melse\u001b[39;49;00m {}), \u001b[39m*\u001b[39;49m\u001b[39m*\u001b[39;49mkwargs)\n",
      "File \u001b[0;32m/Library/Frameworks/Python.framework/Versions/3.9/lib/python3.9/site-packages/matplotlib/axes/_axes.py:1632\u001b[0m, in \u001b[0;36mAxes.plot\u001b[0;34m(self, scalex, scaley, data, *args, **kwargs)\u001b[0m\n\u001b[1;32m   1390\u001b[0m \u001b[39m\u001b[39m\u001b[39m\"\"\"\u001b[39;00m\n\u001b[1;32m   1391\u001b[0m \u001b[39mPlot y versus x as lines and/or markers.\u001b[39;00m\n\u001b[1;32m   1392\u001b[0m \n\u001b[0;32m   (...)\u001b[0m\n\u001b[1;32m   1629\u001b[0m \u001b[39m(``'green'``) or hex strings (``'#008000'``).\u001b[39;00m\n\u001b[1;32m   1630\u001b[0m \u001b[39m\"\"\"\u001b[39;00m\n\u001b[1;32m   1631\u001b[0m kwargs \u001b[39m=\u001b[39m cbook\u001b[39m.\u001b[39mnormalize_kwargs(kwargs, mlines\u001b[39m.\u001b[39mLine2D)\n\u001b[0;32m-> 1632\u001b[0m lines \u001b[39m=\u001b[39m [\u001b[39m*\u001b[39m\u001b[39mself\u001b[39m\u001b[39m.\u001b[39m_get_lines(\u001b[39m*\u001b[39margs, data\u001b[39m=\u001b[39mdata, \u001b[39m*\u001b[39m\u001b[39m*\u001b[39mkwargs)]\n\u001b[1;32m   1633\u001b[0m \u001b[39mfor\u001b[39;00m line \u001b[39min\u001b[39;00m lines:\n\u001b[1;32m   1634\u001b[0m     \u001b[39mself\u001b[39m\u001b[39m.\u001b[39madd_line(line)\n",
      "File \u001b[0;32m/Library/Frameworks/Python.framework/Versions/3.9/lib/python3.9/site-packages/matplotlib/axes/_base.py:312\u001b[0m, in \u001b[0;36m_process_plot_var_args.__call__\u001b[0;34m(self, data, *args, **kwargs)\u001b[0m\n\u001b[1;32m    310\u001b[0m     this \u001b[39m+\u001b[39m\u001b[39m=\u001b[39m args[\u001b[39m0\u001b[39m],\n\u001b[1;32m    311\u001b[0m     args \u001b[39m=\u001b[39m args[\u001b[39m1\u001b[39m:]\n\u001b[0;32m--> 312\u001b[0m \u001b[39myield from\u001b[39;00m \u001b[39mself\u001b[39;49m\u001b[39m.\u001b[39;49m_plot_args(this, kwargs)\n",
      "File \u001b[0;32m/Library/Frameworks/Python.framework/Versions/3.9/lib/python3.9/site-packages/matplotlib/axes/_base.py:487\u001b[0m, in \u001b[0;36m_process_plot_var_args._plot_args\u001b[0;34m(self, tup, kwargs, return_kwargs)\u001b[0m\n\u001b[1;32m    484\u001b[0m         kw[prop_name] \u001b[39m=\u001b[39m val\n\u001b[1;32m    486\u001b[0m \u001b[39mif\u001b[39;00m \u001b[39mlen\u001b[39m(xy) \u001b[39m==\u001b[39m \u001b[39m2\u001b[39m:\n\u001b[0;32m--> 487\u001b[0m     x \u001b[39m=\u001b[39m _check_1d(xy[\u001b[39m0\u001b[39;49m])\n\u001b[1;32m    488\u001b[0m     y \u001b[39m=\u001b[39m _check_1d(xy[\u001b[39m1\u001b[39m])\n\u001b[1;32m    489\u001b[0m \u001b[39melse\u001b[39;00m:\n",
      "File \u001b[0;32m/Library/Frameworks/Python.framework/Versions/3.9/lib/python3.9/site-packages/matplotlib/cbook/__init__.py:1327\u001b[0m, in \u001b[0;36m_check_1d\u001b[0;34m(x)\u001b[0m\n\u001b[1;32m   1321\u001b[0m \u001b[39mwith\u001b[39;00m warnings\u001b[39m.\u001b[39mcatch_warnings(record\u001b[39m=\u001b[39m\u001b[39mTrue\u001b[39;00m) \u001b[39mas\u001b[39;00m w:\n\u001b[1;32m   1322\u001b[0m     warnings\u001b[39m.\u001b[39mfilterwarnings(\n\u001b[1;32m   1323\u001b[0m         \u001b[39m\"\u001b[39m\u001b[39malways\u001b[39m\u001b[39m\"\u001b[39m,\n\u001b[1;32m   1324\u001b[0m         category\u001b[39m=\u001b[39m\u001b[39mWarning\u001b[39;00m,\n\u001b[1;32m   1325\u001b[0m         message\u001b[39m=\u001b[39m\u001b[39m'\u001b[39m\u001b[39mSupport for multi-dimensional indexing\u001b[39m\u001b[39m'\u001b[39m)\n\u001b[0;32m-> 1327\u001b[0m     ndim \u001b[39m=\u001b[39m x[:, \u001b[39mNone\u001b[39;49;00m]\u001b[39m.\u001b[39mndim\n\u001b[1;32m   1328\u001b[0m     \u001b[39m# we have definitely hit a pandas index or series object\u001b[39;00m\n\u001b[1;32m   1329\u001b[0m     \u001b[39m# cast to a numpy array.\u001b[39;00m\n\u001b[1;32m   1330\u001b[0m     \u001b[39mif\u001b[39;00m \u001b[39mlen\u001b[39m(w) \u001b[39m>\u001b[39m \u001b[39m0\u001b[39m:\n",
      "File \u001b[0;32m/Library/Frameworks/Python.framework/Versions/3.9/lib/python3.9/site-packages/pandas/core/indexes/base.py:5199\u001b[0m, in \u001b[0;36mIndex.__getitem__\u001b[0;34m(self, key)\u001b[0m\n\u001b[1;32m   5197\u001b[0m \u001b[39m# Because we ruled out integer above, we always get an arraylike here\u001b[39;00m\n\u001b[1;32m   5198\u001b[0m \u001b[39mif\u001b[39;00m result\u001b[39m.\u001b[39mndim \u001b[39m>\u001b[39m \u001b[39m1\u001b[39m:\n\u001b[0;32m-> 5199\u001b[0m     disallow_ndim_indexing(result)\n\u001b[1;32m   5201\u001b[0m \u001b[39m# NB: Using _constructor._simple_new would break if MultiIndex\u001b[39;00m\n\u001b[1;32m   5202\u001b[0m \u001b[39m#  didn't override __getitem__\u001b[39;00m\n\u001b[1;32m   5203\u001b[0m \u001b[39mreturn\u001b[39;00m \u001b[39mself\u001b[39m\u001b[39m.\u001b[39m_constructor\u001b[39m.\u001b[39m_simple_new(result, name\u001b[39m=\u001b[39m\u001b[39mself\u001b[39m\u001b[39m.\u001b[39m_name)\n",
      "File \u001b[0;32m/Library/Frameworks/Python.framework/Versions/3.9/lib/python3.9/site-packages/pandas/core/indexers/utils.py:343\u001b[0m, in \u001b[0;36mdisallow_ndim_indexing\u001b[0;34m(result)\u001b[0m\n\u001b[1;32m    335\u001b[0m \u001b[39m\u001b[39m\u001b[39m\"\"\"\u001b[39;00m\n\u001b[1;32m    336\u001b[0m \u001b[39mHelper function to disallow multi-dimensional indexing on 1D Series/Index.\u001b[39;00m\n\u001b[1;32m    337\u001b[0m \n\u001b[0;32m   (...)\u001b[0m\n\u001b[1;32m    340\u001b[0m \u001b[39min GH#30588.\u001b[39;00m\n\u001b[1;32m    341\u001b[0m \u001b[39m\"\"\"\u001b[39;00m\n\u001b[1;32m    342\u001b[0m \u001b[39mif\u001b[39;00m np\u001b[39m.\u001b[39mndim(result) \u001b[39m>\u001b[39m \u001b[39m1\u001b[39m:\n\u001b[0;32m--> 343\u001b[0m     \u001b[39mraise\u001b[39;00m \u001b[39mValueError\u001b[39;00m(\n\u001b[1;32m    344\u001b[0m         \u001b[39m\"\u001b[39m\u001b[39mMulti-dimensional indexing (e.g. `obj[:, None]`) is no longer \u001b[39m\u001b[39m\"\u001b[39m\n\u001b[1;32m    345\u001b[0m         \u001b[39m\"\u001b[39m\u001b[39msupported. Convert to a numpy array before indexing instead.\u001b[39m\u001b[39m\"\u001b[39m\n\u001b[1;32m    346\u001b[0m     )\n",
      "\u001b[0;31mValueError\u001b[0m: Multi-dimensional indexing (e.g. `obj[:, None]`) is no longer supported. Convert to a numpy array before indexing instead."
     ]
    },
    {
     "data": {
      "image/png": "[encoded data removed]",
      "text/plain": [
       "<Figure size 640x480 with 1 Axes>"
      ]
     },
     "metadata": {},
     "output_type": "display_data"
    }
   ],
   "source": [
    "#Function calculating the SMA \n",
    "# Load historical price data into a DataFrame\n",
    "\n",
    "df = quandl.get('BSE/SENSEX', start_date='2009-10-05', end_date='2019-10-05')\n",
    "\n",
    "# Define the period and standard deviation multiplier\n",
    "period = 20  # 20 days is apparently a medium-term indicator.\n",
    "std_multiplier = 2  # Multiplier for standard deviation\n",
    "\n",
    "# Calculate the rolling mean (middle band) and rolling standard deviation\n",
    "\n",
    "#calculates the rolling mean of the closing price by \n",
    "# creating a rolling window of 'period'length and calculating the mean value within each window.\n",
    "df['Middle Band'] = df['Close'].rolling(window=period).mean()\n",
    "\n",
    "\n",
    "df['Upper Band'] = df['Middle Band'] + (df['Close'].rolling(window=period).std() * std_multiplier)\n",
    "df['Lower Band'] = df['Middle Band'] - (df['Close'].rolling(window=period).std() * std_multiplier)\n",
    "\n",
    "plt.plot(df.index, df['Middle Band'], marker='o', linestyle='-')\n",
    "plt.xlabel(\"Date\")\n",
    "plt.ylabel(\"Price/ Rupees\")\n",
    "plt.show()"
   ]
  },
  {
   "cell_type": "code",
   "execution_count": null,
   "metadata": {},
   "outputs": [],
   "source": [
    "# Generate buy and sell signals\n",
    "df['Signal'] = 0  # Initialize signal column\n",
    "\n",
    "# Buy signal: Price crosses below the lower Bollinger Band\n",
    "df.loc[df['Close'] < df['Lower Band'], 'Signal'] = 1\n",
    "\n",
    "# Sell signal: Price crosses above the upper Bollinger Band\n",
    "df.loc[df['Close'] > df['Upper Band'], 'Signal'] = -1\n"
   ]
  },
  {
   "cell_type": "code",
   "execution_count": null,
   "metadata": {},
   "outputs": [],
   "source": [
    "# Plot Bollinger Bands and trading signals\n",
    "import matplotlib.pyplot as plt\n",
    "\n",
    "plt.figure(figsize=(12, 6))\n",
    "plt.plot(df['Close'], label='Price', alpha=0.5)\n",
    "plt.plot(df['Middle Band'], label='Middle Band', linestyle='--')\n",
    "plt.plot(df['Upper Band'], label='Upper Band', linestyle='--')\n",
    "plt.plot(df['Lower Band'], label='Lower Band', linestyle='--')\n",
    "\n",
    "# Plot buy signals as green arrows\n",
    "plt.scatter(df.index[df['Signal'] == 1], df['Close'][df['Signal'] == 1], marker='^', color='g', label='Buy Signal', alpha=1)\n",
    "\n",
    "# Plot sell signals as red arrows\n",
    "plt.scatter(df.index[df['Signal'] == -1], df['Close'][df['Signal'] == -1], marker='v', color='r', label='Sell Signal', alpha=1)\n",
    "\n",
    "plt.title('Bollinger Bands Trading Strategy')\n",
    "plt.legend()\n",
    "plt.show()"
   ]
  },
  {
   "cell_type": "code",
   "execution_count": null,
   "metadata": {},
   "outputs": [],
   "source": [
    "#Test it on the other chuck of time period "
   ]
  },
  {
   "cell_type": "code",
   "execution_count": null,
   "metadata": {},
   "outputs": [],
   "source": [
    "#Performance measurement"
   ]
  }
 ],
 "metadata": {
  "kernelspec": {
   "display_name": "Python 3",
   "language": "python",
   "name": "python3"
  },
  "language_info": {
   "codemirror_mode": {
    "name": "ipython",
    "version": 3
   },
   "file_extension": ".py",
   "mimetype": "text/x-python",
   "name": "python",
   "nbconvert_exporter": "python",
   "pygments_lexer": "ipython3",
   "version": "3.9.1"
  },
  "orig_nbformat": 4
 },
 "nbformat": 4,
 "nbformat_minor": 2
}
